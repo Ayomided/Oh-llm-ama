{
 "cells": [
  {
   "cell_type": "code",
   "execution_count": 1,
   "metadata": {},
   "outputs": [
    {
     "name": "stdout",
     "output_type": "stream",
     "text": [
      "\n",
      "Pink Floyd is a legendary English rock band known for their psychedelic, progressive, and experimental music. Formed in London in 1965, the band consists of Roger Waters, David Gilmour, Nick Mason, and Richard Wright. They are considered one of the most successful and influential bands in the history of popular music.\n",
      "\n",
      "Pink Floyd's music is characterized by their use of synthesizers, sound effects, and philosophical lyrics that explore themes of life, death, technology, politics, and mental health. Some of their most famous songs include \"Comfortably Numb,\" \"Wish You Were Here,\" \"Shine On You Crazy Diamond,\" \"Money,\" and \"The Wall.\"\n",
      "\n",
      "The band has released several critically acclaimed albums throughout their career, including \"The Piper at the Gates of Dawn\" (1967), \"A Saucerful of Secrets\" (1968), \"More\" (1969), \"Ummagumma\" (1969), \"Atom Heart Mother\" (1970), and \"Meddle\" (1971). They have also released several live albums, including \"P.U.L.S.E.\" (1980) and \"Is There Anybody Out There? The Wall Live\" (1994).\n",
      "\n",
      "Pink Floyd has had a significant impact on the music industry, influencing countless other bands and artists. They have won numerous awards, including several Grammy Awards, and have been inducted into the Rock and Roll Hall of Fame.\n",
      "\n",
      "The band's most famous album, \"The Wall,\" is a rock opera that tells the story of a man named Pink and his descent into isolation and madness. The album features some of their most well-known songs, including \"Another Brick in the Wall (Part II),\" \"Hey You,\" and \"Run Like Hell.\" The album has been certified 16x platinum in the United States alone and has sold over 30 million copies worldwide.\n",
      "\n",
      "In addition to their music, Pink Floyd is also known for their elaborate live shows, which often feature elaborate light shows, pyrotechnics, and even a giant inflatable pig. The band's live performances have become the stuff of legend, with many fans considering them to be some of the best live shows in rock history.\n",
      "\n",
      "Despite the band's success, they have also faced numerous challenges throughout their career, including internal conflicts, drug use, and health problems. However, their music has continued to endure, with new generations of fans discovering their music and being inspired by their innovative approach to rock music.\n",
      "\n",
      "Overall, Pink Floyd is a highly influential and successful band that has left an indelible mark on the music industry. Their groundbreaking music and elaborate live shows have inspired countless other bands and artists, and their legacy continues to be felt to this day.\n"
     ]
    }
   ],
   "source": [
    "import ollama\n",
    "\n",
    "response = ollama.chat(model='llama2', messages=[\n",
    "    {\n",
    "        'role': 'user',\n",
    "        'content': 'Can you talk me about Pink Floyd?',\n",
    "        'stream': False,\n",
    "    },\n",
    "])\n",
    "\n",
    "print(response['message']['content'])"
   ]
  }
 ],
 "metadata": {
  "kernelspec": {
   "display_name": "ollama",
   "language": "python",
   "name": "python3"
  },
  "language_info": {
   "codemirror_mode": {
    "name": "ipython",
    "version": 3
   },
   "file_extension": ".py",
   "mimetype": "text/x-python",
   "name": "python",
   "nbconvert_exporter": "python",
   "pygments_lexer": "ipython3",
   "version": "3.12.2"
  }
 },
 "nbformat": 4,
 "nbformat_minor": 2
}
